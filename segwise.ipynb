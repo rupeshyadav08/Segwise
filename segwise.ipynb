{
 "cells": [
  {
   "cell_type": "code",
   "execution_count": 40,
   "id": "9eab86a8",
   "metadata": {},
   "outputs": [],
   "source": [
    "from pyspark.sql import SparkSession\n",
    "from pyspark.sql.functions import col, count, year, to_date, broadcast, lit, split, when, max,min, to_timestamp, avg\n",
    "import findspark\n",
    "findspark.init()\n",
    "# create a SparkSession\n",
    "spark = SparkSession.builder.appName(\"PlayStoreAppData\").getOrCreate()\n"
   ]
  },
  {
   "cell_type": "code",
   "execution_count": 2,
   "id": "21bc2785",
   "metadata": {},
   "outputs": [],
   "source": [
    "# load a CSV file into a DataFrame\n",
    "df = spark.read.csv(\"Data/google-play-dataset-by-tapivedotcom.csv\",  header=True)\n"
   ]
  },
  {
   "cell_type": "code",
   "execution_count": 3,
   "id": "13c1dac6",
   "metadata": {},
   "outputs": [
    {
     "name": "stdout",
     "output_type": "stream",
     "text": [
      "['_c0', 'appId', 'developer', 'developerId', 'developerWebsite', 'free', 'genre', 'genreId', 'inAppProductPrice', 'minInstalls', 'offersIAP', 'originalPrice', 'price', 'ratings', 'len screenshots', 'adSupported', 'containsAds', 'reviews', 'releasedDayYear', 'sale', 'score', 'summary', 'title', 'updated', 'histogram1', 'histogram2', 'histogram3', 'histogram4', 'histogram5', 'releasedDay', 'releasedYear', 'releasedMonth', 'dateUpdated', 'minprice', 'maxprice', 'ParseReleasedDayYear']\n"
     ]
    }
   ],
   "source": [
    "#Show list of columns name\n",
    "print(df.columns)"
   ]
  },
  {
   "cell_type": "code",
   "execution_count": 4,
   "id": "f6e84477",
   "metadata": {},
   "outputs": [
    {
     "name": "stdout",
     "output_type": "stream",
     "text": [
      "['Index', 'appId', 'developer', 'developerId', 'developerWebsite', 'free', 'genre', 'genreId', 'inAppProductPrice', 'minInstalls', 'offersIAP', 'originalPrice', 'price', 'ratings', 'len screenshots', 'adSupported', 'containsAds', 'reviews', 'releasedDayYear', 'sale', 'score', 'summary', 'title', 'updated', 'histogram1', 'histogram2', 'histogram3', 'histogram4', 'histogram5', 'releasedDay', 'releasedYear', 'releasedMonth', 'dateUpdated', 'minprice', 'maxprice', 'ParseReleasedDayYear']\n"
     ]
    }
   ],
   "source": [
    "#Rename the index column\n",
    "df = df.withColumnRenamed(\"_c0\", \"Index\")\n",
    "print(df.columns)"
   ]
  },
  {
   "cell_type": "code",
   "execution_count": 5,
   "id": "cd4e7fac",
   "metadata": {},
   "outputs": [
    {
     "name": "stdout",
     "output_type": "stream",
     "text": [
      "root\n",
      " |-- Index: string (nullable = true)\n",
      " |-- appId: string (nullable = true)\n",
      " |-- developer: string (nullable = true)\n",
      " |-- developerId: string (nullable = true)\n",
      " |-- developerWebsite: string (nullable = true)\n",
      " |-- free: string (nullable = true)\n",
      " |-- genre: string (nullable = true)\n",
      " |-- genreId: string (nullable = true)\n",
      " |-- inAppProductPrice: string (nullable = true)\n",
      " |-- minInstalls: string (nullable = true)\n",
      " |-- offersIAP: string (nullable = true)\n",
      " |-- originalPrice: string (nullable = true)\n",
      " |-- price: string (nullable = true)\n",
      " |-- ratings: string (nullable = true)\n",
      " |-- len screenshots: string (nullable = true)\n",
      " |-- adSupported: string (nullable = true)\n",
      " |-- containsAds: string (nullable = true)\n",
      " |-- reviews: string (nullable = true)\n",
      " |-- releasedDayYear: string (nullable = true)\n",
      " |-- sale: string (nullable = true)\n",
      " |-- score: string (nullable = true)\n",
      " |-- summary: string (nullable = true)\n",
      " |-- title: string (nullable = true)\n",
      " |-- updated: string (nullable = true)\n",
      " |-- histogram1: string (nullable = true)\n",
      " |-- histogram2: string (nullable = true)\n",
      " |-- histogram3: string (nullable = true)\n",
      " |-- histogram4: string (nullable = true)\n",
      " |-- histogram5: string (nullable = true)\n",
      " |-- releasedDay: string (nullable = true)\n",
      " |-- releasedYear: string (nullable = true)\n",
      " |-- releasedMonth: string (nullable = true)\n",
      " |-- dateUpdated: string (nullable = true)\n",
      " |-- minprice: string (nullable = true)\n",
      " |-- maxprice: string (nullable = true)\n",
      " |-- ParseReleasedDayYear: string (nullable = true)\n",
      "\n"
     ]
    }
   ],
   "source": [
    "df.printSchema()"
   ]
  },
  {
   "attachments": {},
   "cell_type": "markdown",
   "id": "41eb7616",
   "metadata": {},
   "source": [
    "    The above cell output shows that fields like price, rating, minprice, maxprice, minInstalls etc\n",
    "    are string we need to convert them to there required datatype like price, score,rating,minprice \n",
    "    etc should be converted to float or int, ParseReleasedDayYear and dateUpdated should be converted \n",
    "    to timestamp"
   ]
  },
  {
   "cell_type": "code",
   "execution_count": 6,
   "id": "1f2184c9",
   "metadata": {},
   "outputs": [],
   "source": [
    "# Casting column datatype to sutiable datatype\n",
    "#Float\n",
    "df = df.withColumn(\"price\", col(\"price\").cast(\"float\"))\n",
    "df = df.withColumn(\"score\", col(\"score\").cast(\"float\"))\n",
    "df = df.withColumn(\"minprice\", col(\"minprice\").cast(\"float\"))\n",
    "df = df.withColumn(\"maxprice\", col(\"maxprice\").cast(\"float\"))\n",
    "#Int\n",
    "df = df.withColumn(\"free\", col(\"free\").cast(\"int\"))\n",
    "df = df.withColumn(\"ratings\", col(\"ratings\").cast(\"int\"))\n",
    "df = df.withColumn(\"minInstalls\", col(\"minInstalls\").cast(\"int\"))\n",
    "df = df.withColumn(\"adSupported\", col(\"adSupported\").cast(\"int\"))\n",
    "df = df.withColumn(\"containsAds\", col(\"containsAds\").cast(\"int\"))\n",
    "df = df.withColumn(\"reviews\", col(\"reviews\").cast(\"int\"))\n",
    "df = df.withColumn(\"releasedYear\", col(\"releasedYear\").cast(\"int\"))\n",
    "\n",
    "\n",
    "# Parse ReleasedDayYear column to timestamp and date (assuming format \"yyyy-MM-dd\")\n",
    "df = df.withColumn(\"ParseReleasedDayYear\", to_timestamp(col(\"ParseReleasedDayYear\")))\n",
    "df = df.withColumn(\"dateUpdated\", to_timestamp(col(\"dateUpdated\")))"
   ]
  },
  {
   "cell_type": "code",
   "execution_count": 7,
   "id": "24851598",
   "metadata": {},
   "outputs": [
    {
     "name": "stdout",
     "output_type": "stream",
     "text": [
      "root\n",
      " |-- Index: string (nullable = true)\n",
      " |-- appId: string (nullable = true)\n",
      " |-- developer: string (nullable = true)\n",
      " |-- developerId: string (nullable = true)\n",
      " |-- developerWebsite: string (nullable = true)\n",
      " |-- free: integer (nullable = true)\n",
      " |-- genre: string (nullable = true)\n",
      " |-- genreId: string (nullable = true)\n",
      " |-- inAppProductPrice: string (nullable = true)\n",
      " |-- minInstalls: integer (nullable = true)\n",
      " |-- offersIAP: string (nullable = true)\n",
      " |-- originalPrice: string (nullable = true)\n",
      " |-- price: float (nullable = true)\n",
      " |-- ratings: integer (nullable = true)\n",
      " |-- len screenshots: string (nullable = true)\n",
      " |-- adSupported: integer (nullable = true)\n",
      " |-- containsAds: integer (nullable = true)\n",
      " |-- reviews: integer (nullable = true)\n",
      " |-- releasedDayYear: string (nullable = true)\n",
      " |-- sale: string (nullable = true)\n",
      " |-- score: float (nullable = true)\n",
      " |-- summary: string (nullable = true)\n",
      " |-- title: string (nullable = true)\n",
      " |-- updated: string (nullable = true)\n",
      " |-- histogram1: string (nullable = true)\n",
      " |-- histogram2: string (nullable = true)\n",
      " |-- histogram3: string (nullable = true)\n",
      " |-- histogram4: string (nullable = true)\n",
      " |-- histogram5: string (nullable = true)\n",
      " |-- releasedDay: string (nullable = true)\n",
      " |-- releasedYear: integer (nullable = true)\n",
      " |-- releasedMonth: string (nullable = true)\n",
      " |-- dateUpdated: timestamp (nullable = true)\n",
      " |-- minprice: float (nullable = true)\n",
      " |-- maxprice: float (nullable = true)\n",
      " |-- ParseReleasedDayYear: timestamp (nullable = true)\n",
      "\n"
     ]
    }
   ],
   "source": [
    "#Print Schema to validate chages\n",
    "df.printSchema()"
   ]
  },
  {
   "cell_type": "code",
   "execution_count": 8,
   "id": "85653b9c",
   "metadata": {},
   "outputs": [],
   "source": [
    "filtered_df = df.withColumn(\n",
    "    \"releasedyear_column\",\n",
    "    when(\n",
    "        (col(\"releasedYear\") >= 2000) & (col(\"releasedYear\") <= 2023),\n",
    "        col(\"releasedYear\")\n",
    "    ).otherwise(None)\n",
    ")\n"
   ]
  },
  {
   "cell_type": "code",
   "execution_count": 9,
   "id": "e9cabb85",
   "metadata": {},
   "outputs": [
    {
     "data": {
      "text/plain": [
       "3460966"
      ]
     },
     "execution_count": 9,
     "metadata": {},
     "output_type": "execute_result"
    }
   ],
   "source": [
    "filtered_df.select(\"releasedyear_column\").count()\n"
   ]
  },
  {
   "cell_type": "code",
   "execution_count": 10,
   "id": "42f25b3f",
   "metadata": {},
   "outputs": [],
   "source": [
    "max_filtered_date = filtered_df.agg({\"minInstalls\": \"max\"}).collect()[0][\"max(minInstalls)\"]\n",
    "min_filtered_date = filtered_df.agg({\"minInstalls\": \"min\"}).collect()[0][\"min(minInstalls)\"]"
   ]
  },
  {
   "cell_type": "code",
   "execution_count": 11,
   "id": "0ff65588",
   "metadata": {},
   "outputs": [
    {
     "data": {
      "text/plain": [
       "1000000000"
      ]
     },
     "execution_count": 11,
     "metadata": {},
     "output_type": "execute_result"
    }
   ],
   "source": [
    "max_filtered_date"
   ]
  },
  {
   "cell_type": "code",
   "execution_count": 12,
   "id": "80a67f51",
   "metadata": {},
   "outputs": [
    {
     "data": {
      "text/plain": [
       "0"
      ]
     },
     "execution_count": 12,
     "metadata": {},
     "output_type": "execute_result"
    }
   ],
   "source": [
    "min_filtered_date"
   ]
  },
  {
   "cell_type": "code",
   "execution_count": 13,
   "id": "af1da1fe",
   "metadata": {},
   "outputs": [],
   "source": [
    "bucket_df = filtered_df"
   ]
  },
  {
   "cell_type": "code",
   "execution_count": 14,
   "id": "796db7d6",
   "metadata": {},
   "outputs": [],
   "source": [
    "#Bucketing the data\n",
    "bucket_df = bucket_df.withColumn(\n",
    "    \"year_bucket\",\n",
    "    when((col(\"releasedyear_column\") >= 2000) & (col(\"releasedyear_column\") <= 2005), \"[2000-2005]\")\n",
    "    .when((col(\"releasedyear_column\") >= 2006) & (col(\"releasedyear_column\") <= 2010), \"[2006-2010]\")\n",
    "    .when((col(\"releasedyear_column\") >= 2011) & (col(\"releasedyear_column\") <= 2015), \"[2011-2015]\")\n",
    "    .when((col(\"releasedyear_column\") >= 2016) & (col(\"releasedyear_column\") <= 2020), \"[2016-2020]\")\n",
    "    .when((col(\"releasedyear_column\") >= 2021) & (col(\"releasedyear_column\") <= 2025), \"[2021-2025]\")\n",
    "    .otherwise(None)\n",
    ")\n",
    "\n",
    "bucket_df = bucket_df.withColumn(\n",
    "    \"rating_bucket\",\n",
    "    when((col(\"ratings\") >= 0) & (col(\"ratings\") <= 1), \"[rating between 0 to 1]\")\n",
    "    .when((col(\"ratings\") >= 1.1) & (col(\"ratings\") <= 2), \"[rating between 1 to 2]\")\n",
    "    .when((col(\"ratings\") >= 2.1) & (col(\"ratings\") <= 3), \"[rating between 2 to 3]\")\n",
    "    .when((col(\"ratings\") >= 3.1) & (col(\"ratings\") <= 4), \"[rating between 3 to 4]\")\n",
    "    .when((col(\"ratings\") >= 4.1) & (col(\"ratings\") <= 5), \"[rating between 4 to 5]\")\n",
    "    .otherwise(None)\n",
    ")\n",
    "\n",
    "bucket_df = bucket_df.withColumn(\n",
    "    \"price_bucket\",\n",
    "    when((col(\"price\") >= 0) & (col(\"price\") <= 5), \"[price between 0 to 5]\")\n",
    "    .when((col(\"price\") > 5) & (col(\"price\") <= 10), \"[price between 5 or 10]\")\n",
    "    .when((col(\"price\") > 10) & (col(\"price\") <= 15), \"[price between 10 or 15]\")\n",
    "    .when((col(\"price\") > 15) & (col(\"price\") <= 20), \"[price between 15 or 20]\")\n",
    "    .when((col(\"price\") >20) , \"[price above 20]\")\n",
    "    .otherwise(None)\n",
    ")\n",
    "\n",
    "bucket_df = bucket_df.withColumn(\n",
    "    \"minInstalls_bucket\",\n",
    "    when((col(\"minInstalls\") >= 0) & (col(\"minInstalls\") <= 1000), \"[Install between 0 to 1000]\")\n",
    "    .when((col(\"minInstalls\") >= 1001) & (col(\"minInstalls\") <= 10000), \"[Install between 1001 or 10000]\")\n",
    "    .when((col(\"minInstalls\") >= 10001) & (col(\"minInstalls\") <= 50000), \"[Install between 10001 or 50000]\")\n",
    "    .when((col(\"minInstalls\") >= 50001) & (col(\"minInstalls\") <= 100000), \"[Install between 50001 or 100000]\")\n",
    "    .when((col(\"minInstalls\") >= 100001) & (col(\"minInstalls\") <= 1000000), \"[Install between 100001 or 1000000]\")\n",
    "    .when((col(\"minInstalls\") >= 1000001) , \"[Install above 1000001]\")\n",
    "    .otherwise(None)\n",
    ")"
   ]
  },
  {
   "cell_type": "code",
   "execution_count": 15,
   "id": "58b5b7ea",
   "metadata": {
    "scrolled": true
   },
   "outputs": [
    {
     "data": {
      "text/plain": [
       "3460966"
      ]
     },
     "execution_count": 15,
     "metadata": {},
     "output_type": "execute_result"
    }
   ],
   "source": [
    "bucket_df.count()"
   ]
  },
  {
   "cell_type": "code",
   "execution_count": 16,
   "id": "34be0f34",
   "metadata": {},
   "outputs": [],
   "source": [
    "year_bucket_count = bucket_df.groupBy(\"year_bucket\").count()\n",
    "rating_bucket_count = bucket_df.groupBy(\"rating_bucket\").count()\n",
    "price_bucket_count = bucket_df.groupBy(\"price_bucket\").count()\n",
    "install_bucket_count = bucket_df.groupBy(\"minInstalls_bucket\").count()"
   ]
  },
  {
   "cell_type": "code",
   "execution_count": 17,
   "id": "67a468e9",
   "metadata": {},
   "outputs": [
    {
     "name": "stdout",
     "output_type": "stream",
     "text": [
      "+-----------+-------+\n",
      "|year_bucket|  count|\n",
      "+-----------+-------+\n",
      "|       null|  16288|\n",
      "|[2016-2020]|1873870|\n",
      "|[2006-2010]|   4820|\n",
      "|[2021-2025]|1302342|\n",
      "|[2011-2015]| 263646|\n",
      "+-----------+-------+\n",
      "\n",
      "+--------------------+-------+\n",
      "|       rating_bucket|  count|\n",
      "+--------------------+-------+\n",
      "|[rating between 0...|3005099|\n",
      "|                null| 450854|\n",
      "|[rating between 4...|   5002|\n",
      "|[rating between 2...|      3|\n",
      "|[rating between 3...|      1|\n",
      "|[rating between 1...|      7|\n",
      "+--------------------+-------+\n",
      "\n",
      "+--------------------+-------+\n",
      "|        price_bucket|  count|\n",
      "+--------------------+-------+\n",
      "|[price between 0 ...|3432542|\n",
      "|                null|   9628|\n",
      "|[price between 5 ...|  11212|\n",
      "|[price between 15...|   1270|\n",
      "|    [price above 20]|   4100|\n",
      "|[price between 10...|   2214|\n",
      "+--------------------+-------+\n",
      "\n",
      "+--------------------+-------+\n",
      "|  minInstalls_bucket|  count|\n",
      "+--------------------+-------+\n",
      "|                null|    416|\n",
      "|[Install between ...|2692925|\n",
      "|[Install between ...|  67903|\n",
      "|[Install above 10...|  17273|\n",
      "|[Install between ...| 476319|\n",
      "|[Install between ...| 121931|\n",
      "|[Install between ...|  84199|\n",
      "+--------------------+-------+\n",
      "\n"
     ]
    }
   ],
   "source": [
    "year_bucket_count.show()\n",
    "rating_bucket_count.show()\n",
    "price_bucket_count.show()\n",
    "install_bucket_count.show()"
   ]
  },
  {
   "cell_type": "code",
   "execution_count": 18,
   "id": "85d4e8fb",
   "metadata": {},
   "outputs": [
    {
     "name": "stdout",
     "output_type": "stream",
     "text": [
      "69219\n",
      "['[rating between 0 to 1]', None]\n",
      "['[price between 0 to 5]']\n",
      "['[2016-2020]', '[2021-2025]', '[2011-2015]']\n",
      "['[Install between 0 to 1000]', '[Install between 1001 or 10000]', '[Install between 50001 or 100000]', '[Install between 10001 or 50000]']\n"
     ]
    }
   ],
   "source": [
    "#Filter out combinations which are smaller than 2% of total volume.\n",
    "filter_bucket_count = int(0.02 * bucket_df.count())\n",
    "print(filter_bucket_count)\n",
    "filtered_year_bucket = year_bucket_count.filter(col(\"count\") > filter_bucket_count)\n",
    "filtered_rating_bucket = rating_bucket_count.filter(col(\"count\") > filter_bucket_count)\n",
    "filtered_price_bucket = price_bucket_count.filter(col(\"count\") > filter_bucket_count)\n",
    "filtered_install_bucket = install_bucket_count.filter(col(\"count\") > filter_bucket_count)\n",
    "\n",
    "rating_list = filtered_rating_bucket.select(\"rating_bucket\").rdd.flatMap(lambda x: x).collect()\n",
    "price_list = filtered_price_bucket.select(\"price_bucket\").rdd.flatMap(lambda x: x).collect()\n",
    "year_list = filtered_year_bucket.select(\"year_bucket\").rdd.flatMap(lambda x: x).collect()\n",
    "install_list = filtered_install_bucket.select(\"minInstalls_bucket\").rdd.flatMap(lambda x: x).collect()\n",
    "\n",
    "print(rating_list)\n",
    "print(price_list)\n",
    "print(year_list)\n",
    "print(install_list)\n",
    "\n",
    "\n"
   ]
  },
  {
   "cell_type": "code",
   "execution_count": 19,
   "id": "0c085378",
   "metadata": {},
   "outputs": [
    {
     "data": {
      "text/plain": [
       "2976568"
      ]
     },
     "execution_count": 19,
     "metadata": {},
     "output_type": "execute_result"
    }
   ],
   "source": [
    "\n",
    "# Filter the DataFrame\n",
    "Cleaned_df = bucket_df.filter((col(\"year_bucket\").isin(year_list)) &\n",
    "                        (col(\"rating_bucket\").isin(rating_list)) &\n",
    "                        (col(\"price_bucket\").isin(price_list)) &\n",
    "                        (col(\"minInstalls_bucket\").isin(install_list)))\n",
    "\n",
    "# Show the filtered DataFrame\n",
    "Cleaned_df.count()"
   ]
  },
  {
   "cell_type": "code",
   "execution_count": 42,
   "id": "a6039842",
   "metadata": {},
   "outputs": [
    {
     "name": "stdout",
     "output_type": "stream",
     "text": [
      "+-----------+--------------------+--------------------+------------+--------------------+-----+-------+--------------------+----+-------+-----+--------------------+\n",
      "|year_bucket|       rating_bucket|        price_bucket|       genre|  minInstalls_bucket|price|ratings|    developerWebsite|free|reviews|score|               appId|\n",
      "+-----------+--------------------+--------------------+------------+--------------------+-----+-------+--------------------+----+-------+-----+--------------------+\n",
      "|[2016-2020]|[rating between 0...|[price between 0 ...|Art & Design|[Install between ...|  0.0|      0|                None|   1|      0|  0.0|freeappscollectio...|\n",
      "|[2016-2020]|[rating between 0...|[price between 0 ...|Art & Design|[Install between ...|  0.0|      0|https://dailyshar...|   1|      0|  0.0|in.letstartup.nai...|\n",
      "|[2016-2020]|[rating between 0...|[price between 0 ...|Art & Design|[Install between ...|  0.0|      0|                None|   1|      0|  0.0|com.inforotor.saa...|\n",
      "|[2016-2020]|[rating between 0...|[price between 0 ...|Art & Design|[Install between ...|  0.0|      0|                None|   1|      0|  0.0|com.inforotor.saa...|\n",
      "|[2016-2020]|[rating between 0...|[price between 0 ...|Art & Design|[Install between ...|  0.0|      0|                None|   1|      0|  0.0|com.appystations....|\n",
      "+-----------+--------------------+--------------------+------------+--------------------+-----+-------+--------------------+----+-------+-----+--------------------+\n",
      "only showing top 5 rows\n",
      "\n"
     ]
    }
   ],
   "source": [
    "from itertools import combinations\n",
    "\n",
    "# List of important columns\n",
    "important_columns = [\"year_bucket\", \"rating_bucket\", \"price_bucket\", \"genre\", \"minInstalls_bucket\",\"price\",\n",
    "                    \"ratings\", \"developerWebsite\", \"free\", \"reviews\", \"score\" ,\"appId\"]\n",
    "\n",
    "# Generate all possible combinations of 1 to 12 columns\n",
    "all_column_combinations = [c for r in range(1, 13) for c in combinations(important_columns, r)]\n",
    "\n",
    "# Iterate through each combination and create a new DataFrame\n",
    "for column_combination in all_column_combinations:\n",
    "    selected_columns_df = Cleaned_df.select(*column_combination)\n",
    "\n",
    "selected_columns_df.show(5)\n"
   ]
  },
  {
   "cell_type": "code",
   "execution_count": 43,
   "id": "88a3c94d",
   "metadata": {},
   "outputs": [],
   "source": [
    "#Question 1: How many apps are free, belong to a certain genre, and were launched in a particular year?\n",
    "\n",
    "Answer_one = selected_columns_df.filter((col('free') == 1) & (col('genre') == 'Art & Design'))\n",
    "Answer_one = Answer_one.select('appId','genre','year_bucket')\n",
    "Answer_one.coalesce(1).write.csv('output/answer1.csv', header=True, mode=\"overwrite\")\n"
   ]
  },
  {
   "cell_type": "code",
   "execution_count": 48,
   "id": "7cc953ef",
   "metadata": {},
   "outputs": [],
   "source": [
    "#Question 2: How many apps fall within a 0 to 5 price range, were released in \n",
    "# between 2011-2015, have Instalation between 50001 or 100000?\n",
    "\n",
    "Answer2 = selected_columns_df.filter(\n",
    "    (col('price_bucket') == '[price between 0 to 5]' ) &\n",
    "    (col('year_bucket') == '[2011-2015]') &\n",
    "    (col('minInstalls_bucket') == '[Install between 50001 or 100000]') \n",
    ")\n",
    "Answer_Two = Answer2.select('appId','year_bucket','minInstalls_bucket')\n",
    "Answer_Two.coalesce(1).write.csv('output/answer2.csv', header=True, mode=\"overwrite\")\n"
   ]
  },
  {
   "cell_type": "code",
   "execution_count": 49,
   "id": "fbf906be",
   "metadata": {},
   "outputs": [],
   "source": [
    "#Question 3: What is the average rating of apps for each genre?\n",
    "average_ratings_per_genre = selected_columns_df.groupBy('genre').agg(avg('ratings').alias('average_rating'))\n",
    "Answer_Three = average_ratings_per_genre.select('genre','average_rating')\n",
    "Answer_Three.coalesce(1).write.csv('output/answer3.csv', header=True, mode=\"overwrite\")\n"
   ]
  },
  {
   "cell_type": "code",
   "execution_count": null,
   "id": "3a08e7dd",
   "metadata": {},
   "outputs": [],
   "source": []
  }
 ],
 "metadata": {
  "kernelspec": {
   "display_name": "Python 3",
   "language": "python",
   "name": "python3"
  },
  "language_info": {
   "codemirror_mode": {
    "name": "ipython",
    "version": 3
   },
   "file_extension": ".py",
   "mimetype": "text/x-python",
   "name": "python",
   "nbconvert_exporter": "python",
   "pygments_lexer": "ipython3",
   "version": "3.8.8"
  }
 },
 "nbformat": 4,
 "nbformat_minor": 5
}
